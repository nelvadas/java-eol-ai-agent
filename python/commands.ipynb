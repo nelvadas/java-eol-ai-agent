{
 "cells": [
  {
   "cell_type": "code",
   "execution_count": 58,
   "metadata": {},
   "outputs": [
    {
     "name": "stdout",
     "output_type": "stream",
     "text": [
      "Requirement already satisfied: langchain in /Users/enono/.pyenv/versions/3.12.6/lib/python3.12/site-packages (0.3.10)\n",
      "Requirement already satisfied: langchain_openai in /Users/enono/.pyenv/versions/3.12.6/lib/python3.12/site-packages (0.2.14)\n",
      "Requirement already satisfied: PyYAML>=5.3 in /Users/enono/.pyenv/versions/3.12.6/lib/python3.12/site-packages (from langchain) (6.0.2)\n",
      "Requirement already satisfied: SQLAlchemy<3,>=1.4 in /Users/enono/.pyenv/versions/3.12.6/lib/python3.12/site-packages (from langchain) (2.0.36)\n",
      "Requirement already satisfied: aiohttp<4.0.0,>=3.8.3 in /Users/enono/.pyenv/versions/3.12.6/lib/python3.12/site-packages (from langchain) (3.11.10)\n",
      "Requirement already satisfied: langchain-core<0.4.0,>=0.3.22 in /Users/enono/.pyenv/versions/3.12.6/lib/python3.12/site-packages (from langchain) (0.3.29)\n",
      "Requirement already satisfied: langchain-text-splitters<0.4.0,>=0.3.0 in /Users/enono/.pyenv/versions/3.12.6/lib/python3.12/site-packages (from langchain) (0.3.2)\n",
      "Requirement already satisfied: langsmith<0.2.0,>=0.1.17 in /Users/enono/.pyenv/versions/3.12.6/lib/python3.12/site-packages (from langchain) (0.1.147)\n",
      "Requirement already satisfied: numpy<3,>=1.26.2 in /Users/enono/.pyenv/versions/3.12.6/lib/python3.12/site-packages (from langchain) (1.26.4)\n",
      "Requirement already satisfied: pydantic<3.0.0,>=2.7.4 in /Users/enono/.pyenv/versions/3.12.6/lib/python3.12/site-packages (from langchain) (2.10.3)\n",
      "Requirement already satisfied: requests<3,>=2 in /Users/enono/.pyenv/versions/3.12.6/lib/python3.12/site-packages (from langchain) (2.32.3)\n",
      "Requirement already satisfied: tenacity!=8.4.0,<10,>=8.1.0 in /Users/enono/.pyenv/versions/3.12.6/lib/python3.12/site-packages (from langchain) (9.0.0)\n",
      "Requirement already satisfied: openai<2.0.0,>=1.58.1 in /Users/enono/.pyenv/versions/3.12.6/lib/python3.12/site-packages (from langchain_openai) (1.59.3)\n",
      "Requirement already satisfied: tiktoken<1,>=0.7 in /Users/enono/.pyenv/versions/3.12.6/lib/python3.12/site-packages (from langchain_openai) (0.8.0)\n",
      "Requirement already satisfied: aiohappyeyeballs>=2.3.0 in /Users/enono/.pyenv/versions/3.12.6/lib/python3.12/site-packages (from aiohttp<4.0.0,>=3.8.3->langchain) (2.4.4)\n",
      "Requirement already satisfied: aiosignal>=1.1.2 in /Users/enono/.pyenv/versions/3.12.6/lib/python3.12/site-packages (from aiohttp<4.0.0,>=3.8.3->langchain) (1.3.1)\n",
      "Requirement already satisfied: attrs>=17.3.0 in /Users/enono/.pyenv/versions/3.12.6/lib/python3.12/site-packages (from aiohttp<4.0.0,>=3.8.3->langchain) (24.2.0)\n",
      "Requirement already satisfied: frozenlist>=1.1.1 in /Users/enono/.pyenv/versions/3.12.6/lib/python3.12/site-packages (from aiohttp<4.0.0,>=3.8.3->langchain) (1.5.0)\n",
      "Requirement already satisfied: multidict<7.0,>=4.5 in /Users/enono/.pyenv/versions/3.12.6/lib/python3.12/site-packages (from aiohttp<4.0.0,>=3.8.3->langchain) (6.1.0)\n",
      "Requirement already satisfied: propcache>=0.2.0 in /Users/enono/.pyenv/versions/3.12.6/lib/python3.12/site-packages (from aiohttp<4.0.0,>=3.8.3->langchain) (0.2.1)\n",
      "Requirement already satisfied: yarl<2.0,>=1.17.0 in /Users/enono/.pyenv/versions/3.12.6/lib/python3.12/site-packages (from aiohttp<4.0.0,>=3.8.3->langchain) (1.18.3)\n",
      "Requirement already satisfied: jsonpatch<2.0,>=1.33 in /Users/enono/.pyenv/versions/3.12.6/lib/python3.12/site-packages (from langchain-core<0.4.0,>=0.3.22->langchain) (1.33)\n",
      "Requirement already satisfied: packaging<25,>=23.2 in /Users/enono/.pyenv/versions/3.12.6/lib/python3.12/site-packages (from langchain-core<0.4.0,>=0.3.22->langchain) (24.2)\n",
      "Requirement already satisfied: typing-extensions>=4.7 in /Users/enono/.pyenv/versions/3.12.6/lib/python3.12/site-packages (from langchain-core<0.4.0,>=0.3.22->langchain) (4.12.2)\n",
      "Requirement already satisfied: httpx<1,>=0.23.0 in /Users/enono/.pyenv/versions/3.12.6/lib/python3.12/site-packages (from langsmith<0.2.0,>=0.1.17->langchain) (0.27.2)\n",
      "Requirement already satisfied: orjson<4.0.0,>=3.9.14 in /Users/enono/.pyenv/versions/3.12.6/lib/python3.12/site-packages (from langsmith<0.2.0,>=0.1.17->langchain) (3.10.12)\n",
      "Requirement already satisfied: requests-toolbelt<2.0.0,>=1.0.0 in /Users/enono/.pyenv/versions/3.12.6/lib/python3.12/site-packages (from langsmith<0.2.0,>=0.1.17->langchain) (1.0.0)\n",
      "Requirement already satisfied: anyio<5,>=3.5.0 in /Users/enono/.pyenv/versions/3.12.6/lib/python3.12/site-packages (from openai<2.0.0,>=1.58.1->langchain_openai) (4.7.0)\n",
      "Requirement already satisfied: distro<2,>=1.7.0 in /Users/enono/.pyenv/versions/3.12.6/lib/python3.12/site-packages (from openai<2.0.0,>=1.58.1->langchain_openai) (1.9.0)\n",
      "Requirement already satisfied: jiter<1,>=0.4.0 in /Users/enono/.pyenv/versions/3.12.6/lib/python3.12/site-packages (from openai<2.0.0,>=1.58.1->langchain_openai) (0.8.2)\n",
      "Requirement already satisfied: sniffio in /Users/enono/.pyenv/versions/3.12.6/lib/python3.12/site-packages (from openai<2.0.0,>=1.58.1->langchain_openai) (1.3.1)\n",
      "Requirement already satisfied: tqdm>4 in /Users/enono/.pyenv/versions/3.12.6/lib/python3.12/site-packages (from openai<2.0.0,>=1.58.1->langchain_openai) (4.67.1)\n",
      "Requirement already satisfied: annotated-types>=0.6.0 in /Users/enono/.pyenv/versions/3.12.6/lib/python3.12/site-packages (from pydantic<3.0.0,>=2.7.4->langchain) (0.7.0)\n",
      "Requirement already satisfied: pydantic-core==2.27.1 in /Users/enono/.pyenv/versions/3.12.6/lib/python3.12/site-packages (from pydantic<3.0.0,>=2.7.4->langchain) (2.27.1)\n",
      "Requirement already satisfied: charset-normalizer<4,>=2 in /Users/enono/.pyenv/versions/3.12.6/lib/python3.12/site-packages (from requests<3,>=2->langchain) (3.4.0)\n",
      "Requirement already satisfied: idna<4,>=2.5 in /Users/enono/.pyenv/versions/3.12.6/lib/python3.12/site-packages (from requests<3,>=2->langchain) (3.10)\n",
      "Requirement already satisfied: urllib3<3,>=1.21.1 in /Users/enono/.pyenv/versions/3.12.6/lib/python3.12/site-packages (from requests<3,>=2->langchain) (2.2.3)\n",
      "Requirement already satisfied: certifi>=2017.4.17 in /Users/enono/.pyenv/versions/3.12.6/lib/python3.12/site-packages (from requests<3,>=2->langchain) (2024.8.30)\n",
      "Requirement already satisfied: regex>=2022.1.18 in /Users/enono/.pyenv/versions/3.12.6/lib/python3.12/site-packages (from tiktoken<1,>=0.7->langchain_openai) (2024.11.6)\n",
      "Requirement already satisfied: httpcore==1.* in /Users/enono/.pyenv/versions/3.12.6/lib/python3.12/site-packages (from httpx<1,>=0.23.0->langsmith<0.2.0,>=0.1.17->langchain) (1.0.7)\n",
      "Requirement already satisfied: h11<0.15,>=0.13 in /Users/enono/.pyenv/versions/3.12.6/lib/python3.12/site-packages (from httpcore==1.*->httpx<1,>=0.23.0->langsmith<0.2.0,>=0.1.17->langchain) (0.14.0)\n",
      "Requirement already satisfied: jsonpointer>=1.9 in /Users/enono/.pyenv/versions/3.12.6/lib/python3.12/site-packages (from jsonpatch<2.0,>=1.33->langchain-core<0.4.0,>=0.3.22->langchain) (3.0.0)\n",
      "\n",
      "\u001b[1m[\u001b[0m\u001b[34;49mnotice\u001b[0m\u001b[1;39;49m]\u001b[0m\u001b[39;49m A new release of pip is available: \u001b[0m\u001b[31;49m24.2\u001b[0m\u001b[39;49m -> \u001b[0m\u001b[32;49m25.0\u001b[0m\n",
      "\u001b[1m[\u001b[0m\u001b[34;49mnotice\u001b[0m\u001b[1;39;49m]\u001b[0m\u001b[39;49m To update, run: \u001b[0m\u001b[32;49mpip install --upgrade pip\u001b[0m\n",
      "Note: you may need to restart the kernel to use updated packages.\n"
     ]
    }
   ],
   "source": [
    "%pip install langchain langchain_openai"
   ]
  },
  {
   "cell_type": "markdown",
   "metadata": {},
   "source": [
    "##  Initializing LLMs"
   ]
  },
  {
   "cell_type": "code",
   "execution_count": 59,
   "metadata": {},
   "outputs": [],
   "source": [
    "from langchain_openai import ChatOpenAI\n"
   ]
  },
  {
   "cell_type": "code",
   "execution_count": 60,
   "metadata": {},
   "outputs": [],
   "source": [
    "#OpenAI\n",
    "import os \n",
    "\n",
    "openai_api_key = os.environ.get(\"OPENAI_API_KEY\")\n",
    "openaiLLm = ChatOpenAI(api_key=openai_api_key,model_name=\"gpt-4o\", temperature=0)"
   ]
  },
  {
   "cell_type": "code",
   "execution_count": 61,
   "metadata": {},
   "outputs": [],
   "source": [
    "#Ollama\n",
    "# Make sure Ollama is running locally e.g `ollama run llama3.2`  https://github.com/ollama/ollama\n",
    "\n",
    "ollamallm = ChatOpenAI(api_key=\"-Nothing to set with Ollama\", model=\"llama3.2:latest\",base_url=\"http://localhost:11434/v1\")"
   ]
  },
  {
   "cell_type": "markdown",
   "metadata": {},
   "source": [
    "## Asking about EOL support date for JDK23"
   ]
  },
  {
   "cell_type": "code",
   "execution_count": 62,
   "metadata": {},
   "outputs": [],
   "source": [
    "# Input prompt\n",
    "from langchain_core.messages import HumanMessage\n",
    "messages = [HumanMessage(\"What is the end support life date for JDK version 23.0.2\")]"
   ]
  },
  {
   "cell_type": "code",
   "execution_count": 63,
   "metadata": {},
   "outputs": [
    {
     "name": "stdout",
     "output_type": "stream",
     "text": [
      "I don't have the most up-to-date information on the end support life dates for JDK versions.\n",
      "\n",
      "However, I can suggest some options to help you find the answer:\n",
      "\n",
      "1. Check the official Oracle website: You can visit the Oracle website and search for the JDK version 23.0.2 to see if they have any information on its end-of-life date.\n",
      "2. Check the OpenJDK website: Since OpenJDK is a community-driven project, their website may have more up-to-date information on the end support life dates for different JDK versions.\n",
      "3. Contact Oracle Support: If you need to find the specific end support life date for JDK version 23.0.2, I recommend contacting Oracle Support directly. They should be able to provide you with the most recent and accurate information.\n",
      "\n",
      "I apologize for not being able to provide a more definitive answer. If you have any further questions or concerns, feel free to ask!\n"
     ]
    }
   ],
   "source": [
    "## Closed World LLM output - Ollama - (Local offline)\n",
    "\n",
    "aimsg1 = ollamallm.invoke(messages)\n",
    "print(aimsg1.content)"
   ]
  },
  {
   "cell_type": "code",
   "execution_count": 64,
   "metadata": {},
   "outputs": [
    {
     "name": "stdout",
     "output_type": "stream",
     "text": [
      "As of my last update, JDK 23 has not been released, so there is no specific end of support life date for JDK version 23.0.2. Oracle typically provides updates and support for each Long-Term Support (LTS) release for a period of at least eight years, with the first three years being Premier Support and the remaining five years being Extended Support. Non-LTS releases, on the other hand, generally receive updates for a shorter period, often until the next feature release is available.\n",
      "\n",
      "For the most accurate and up-to-date information, you should check Oracle's official Java SE Support Roadmap or the documentation provided by the OpenJDK community.\n"
     ]
    }
   ],
   "source": [
    "## Closed World LLM output - OpenAI - (Online)\n",
    "\n",
    "aimsg2 = openaiLLm.invoke(messages)\n",
    "print(aimsg2.content)"
   ]
  },
  {
   "cell_type": "markdown",
   "metadata": {},
   "source": [
    "## Introducing Tools With ORacle Java Release API"
   ]
  },
  {
   "cell_type": "markdown",
   "metadata": {},
   "source": [
    "Create a tool relying on an external API provided by Oracle to track java releases \n",
    "https://docs.oracle.com/en-us/iaas/jms/doc/public-api-oracle-java-releases.html\n"
   ]
  },
  {
   "cell_type": "code",
   "execution_count": 77,
   "metadata": {},
   "outputs": [],
   "source": [
    "import requests\n",
    "from langchain_core.tools import tool\n",
    "\n",
    "@tool\n",
    "def getOracleJavaEolSupportDate(releaseVersion: str) -> str:\n",
    "    \"\"\" Get the Oracle JDK releases info : EOL Support dates , CPU, LTS status, Licence ... \"\"\"\n",
    "    api_url =f\"https://java.oraclecloud.com/javaReleases\"\n",
    "    response = requests.get(api_url)\n",
    "    if response.status_code ==200:\n",
    "        data = response.json()\n",
    "        print(f\"data:{data}\")\n",
    "        releases= data[\"items\"]\n",
    "        customerReleases = [\n",
    "            r for r in releases\n",
    "             if ((r.get(\"jdkDetails\", {}).get(\"releaseVersion\") == releaseVersion)\n",
    "             or (r.get(\"jdkDetails\", {}).get(\"jdkVersion\") == releaseVersion)\n",
    "             or (releaseVersion.startswith(r.get(\"jdkDetails\", {}).get(\"jdkVersion\"))))\n",
    "        ]       \n",
    "        print((f\"customerReleases:{customerReleases}\"))\n",
    "        if len(customerReleases)<1:\n",
    "            raise ValueError(f\"No version {releaseVersion} found \")\n",
    "            return\n",
    "    \n",
    "        item= customerReleases[0]\n",
    "        print(f\"Item:{item} \")\n",
    "        return item.get(\"jdkDetails\").get(\"endOfSupportLifeDate\")\n",
    "    else:\n",
    "        raise ValueError(f\"Faile to fetch EOL data for {releaseVersion}\")\n"
   ]
  },
  {
   "cell_type": "code",
   "execution_count": 67,
   "metadata": {},
   "outputs": [
    {
     "name": "stdout",
     "output_type": "stream",
     "text": [
      "data:{'items': [{'artifactContentTypes': ['JDK'], 'daysUnderSecurityBaseline': 0, 'isScriptDownloadAvailable': True, 'jdkDetails': {'docUrl': 'https://docs.oracle.com/javase/23', 'endOfSupportLifeDate': '2025-03-17T23:59:59.000Z', 'jdkVersion': '23', 'isSupportedVersion': True, 'latestReleaseVersion': '23.0.2', 'isLts': False}, 'licenseDetails': {'displayName': 'Oracle No-Fee Terms and Conditions', 'licenseType': 'NFTC', 'licenseUrl': 'https://java.com/freeuselicense'}, 'releaseDate': '2025-01-21T00:00:00.000Z', 'releaseNotesUrl': 'https://www.oracle.com/java/technologies/javase/23-0-2-relnotes.html', 'releaseType': 'CPU', 'releaseVersion': '23.0.2', 'releaseFullVersion': 'jdk-23.0.2-58+7', 'securityStatus': 'UP_TO_DATE'}, {'artifactContentTypes': ['JDK'], 'daysUnderSecurityBaseline': 0, 'isScriptDownloadAvailable': True, 'jdkDetails': {'docUrl': 'https://docs.oracle.com/en/java/javase/21', 'endOfSupportLifeDate': '2031-09-19T23:59:59.000Z', 'jdkVersion': '21', 'isSupportedVersion': True, 'latestReleaseVersion': '21.0.6', 'isLts': True}, 'licenseDetails': {'displayName': 'Oracle No-Fee Terms and Conditions', 'licenseType': 'NFTC', 'licenseUrl': 'https://java.com/freeuselicense'}, 'releaseDate': '2025-01-21T00:00:00.000Z', 'releaseNotesUrl': 'https://www.oracle.com/java/technologies/javase/21-0-6-relnotes.html', 'releaseType': 'CPU', 'releaseVersion': '21.0.6', 'releaseFullVersion': 'jdk-21.0.6-188+8', 'securityStatus': 'UP_TO_DATE'}, {'artifactContentTypes': ['JDK'], 'daysUnderSecurityBaseline': 0, 'isScriptDownloadAvailable': True, 'jdkDetails': {'docUrl': 'https://docs.oracle.com/en/java/javase/17', 'endOfSupportLifeDate': '2029-09-18T23:59:59.000Z', 'jdkVersion': '17', 'isSupportedVersion': True, 'latestReleaseVersion': '17.0.14', 'isLts': True}, 'licenseDetails': {'displayName': 'Oracle Technology Network', 'licenseType': 'OTN', 'licenseUrl': 'https://java.com/otnlicense'}, 'releaseDate': '2025-01-21T00:00:00.000Z', 'releaseNotesUrl': 'https://www.oracle.com/java/technologies/javase/17-0-14-relnotes.html', 'releaseType': 'CPU', 'releaseVersion': '17.0.14', 'releaseFullVersion': 'jdk-17.0.14-191+8', 'securityStatus': 'UP_TO_DATE'}, {'artifactContentTypes': ['JDK'], 'daysUnderSecurityBaseline': 0, 'isScriptDownloadAvailable': True, 'jdkDetails': {'docUrl': 'https://docs.oracle.com/en/java/javase/11', 'endOfSupportLifeDate': '2032-01-30T23:59:59.000Z', 'jdkVersion': '11', 'isSupportedVersion': True, 'latestReleaseVersion': '11.0.26', 'isLts': True}, 'licenseDetails': {'displayName': 'Oracle Technology Network', 'licenseType': 'OTN', 'licenseUrl': 'https://java.com/otnlicense'}, 'releaseDate': '2025-01-21T00:00:00.000Z', 'releaseNotesUrl': 'https://www.oracle.com/java/technologies/javase/11-0-26-relnotes.html', 'releaseType': 'CPU', 'releaseVersion': '11.0.26', 'releaseFullVersion': 'jdk-11.0.26-187+7', 'securityStatus': 'UP_TO_DATE'}, {'artifactContentTypes': ['JDK', 'JRE', 'SERVER_JRE'], 'daysUnderSecurityBaseline': 0, 'isScriptDownloadAvailable': True, 'jdkDetails': {'docUrl': 'https://docs.oracle.com/javase/8', 'endOfSupportLifeDate': '2030-12-31T23:59:59.000Z', 'jdkVersion': '8', 'isSupportedVersion': True, 'latestReleaseVersion': '1.8.0_441', 'isLts': True}, 'licenseDetails': {'displayName': 'Oracle Technology Network', 'licenseType': 'OTN', 'licenseUrl': 'https://java.com/otnlicense'}, 'releaseDate': '2025-01-21T00:00:00.000Z', 'releaseNotesUrl': 'https://www.oracle.com/java/technologies/javase/8u441-relnotes.html', 'releaseType': 'CPU', 'releaseVersion': '1.8.0_441', 'releaseFullVersion': 'jdk-1.8.0_441-b07', 'securityStatus': 'UP_TO_DATE'}, {'artifactContentTypes': ['JDK'], 'daysUnderSecurityBaseline': 10, 'isScriptDownloadAvailable': True, 'jdkDetails': {'docUrl': 'https://docs.oracle.com/javase/23', 'endOfSupportLifeDate': '2025-03-17T23:59:59.000Z', 'jdkVersion': '23', 'isSupportedVersion': True, 'latestReleaseVersion': '23.0.2', 'isLts': False}, 'licenseDetails': {'displayName': 'Oracle No-Fee Terms and Conditions', 'licenseType': 'NFTC', 'licenseUrl': 'https://java.com/freeuselicense'}, 'releaseDate': '2024-10-15T00:00:00.000Z', 'releaseNotesUrl': 'https://www.oracle.com/java/technologies/javase/23-0-1-relnotes.html', 'releaseType': 'CPU', 'releaseVersion': '23.0.1', 'releaseFullVersion': 'jdk-23.0.1-39+11', 'securityStatus': 'UPDATE_REQUIRED'}, {'artifactContentTypes': ['JDK'], 'daysUnderSecurityBaseline': 10, 'isScriptDownloadAvailable': True, 'jdkDetails': {'docUrl': 'https://docs.oracle.com/en/java/javase/21', 'endOfSupportLifeDate': '2031-09-19T23:59:59.000Z', 'jdkVersion': '21', 'isSupportedVersion': True, 'latestReleaseVersion': '21.0.6', 'isLts': True}, 'licenseDetails': {'displayName': 'Oracle No-Fee Terms and Conditions', 'licenseType': 'NFTC', 'licenseUrl': 'https://java.com/freeuselicense'}, 'releaseDate': '2024-10-15T00:00:00.000Z', 'releaseNotesUrl': 'https://www.oracle.com/java/technologies/javase/21-0-5-relnotes.html', 'releaseType': 'CPU', 'releaseVersion': '21.0.5', 'releaseFullVersion': 'jdk-21.0.5-239+9', 'securityStatus': 'UPDATE_REQUIRED'}, {'artifactContentTypes': ['JDK'], 'daysUnderSecurityBaseline': 10, 'isScriptDownloadAvailable': True, 'jdkDetails': {'docUrl': 'https://docs.oracle.com/en/java/javase/17', 'endOfSupportLifeDate': '2029-09-18T23:59:59.000Z', 'jdkVersion': '17', 'isSupportedVersion': True, 'latestReleaseVersion': '17.0.14', 'isLts': True}, 'licenseDetails': {'displayName': 'Oracle Technology Network', 'licenseType': 'OTN', 'licenseUrl': 'https://java.com/otnlicense'}, 'releaseDate': '2024-10-15T00:00:00.000Z', 'releaseNotesUrl': 'https://www.oracle.com/java/technologies/javase/17-0-13-relnotes.html', 'releaseType': 'CPU', 'releaseVersion': '17.0.13', 'releaseFullVersion': 'jdk-17.0.13-268+10', 'securityStatus': 'UPDATE_REQUIRED'}, {'artifactContentTypes': ['JDK'], 'daysUnderSecurityBaseline': 10, 'isScriptDownloadAvailable': True, 'jdkDetails': {'docUrl': 'https://docs.oracle.com/en/java/javase/11', 'endOfSupportLifeDate': '2032-01-30T23:59:59.000Z', 'jdkVersion': '11', 'isSupportedVersion': True, 'latestReleaseVersion': '11.0.26', 'isLts': True}, 'licenseDetails': {'displayName': 'Oracle Technology Network', 'licenseType': 'OTN', 'licenseUrl': 'https://java.com/otnlicense'}, 'releaseDate': '2024-10-15T00:00:00.000Z', 'releaseNotesUrl': 'https://www.oracle.com/java/technologies/javase/11-0-25-relnotes.html', 'releaseType': 'CPU', 'releaseVersion': '11.0.25', 'releaseFullVersion': 'jdk-11.0.25-256+9', 'securityStatus': 'UPDATE_REQUIRED'}, {'artifactContentTypes': ['JDK', 'JRE', 'SERVER_JRE'], 'daysUnderSecurityBaseline': 10, 'isScriptDownloadAvailable': True, 'jdkDetails': {'docUrl': 'https://docs.oracle.com/javase/8', 'endOfSupportLifeDate': '2030-12-31T23:59:59.000Z', 'jdkVersion': '8', 'isSupportedVersion': True, 'latestReleaseVersion': '1.8.0_441', 'isLts': True}, 'licenseDetails': {'displayName': 'Oracle Technology Network', 'licenseType': 'OTN', 'licenseUrl': 'https://java.com/otnlicense'}, 'releaseDate': '2024-10-15T00:00:00.000Z', 'releaseNotesUrl': 'https://www.oracle.com/java/technologies/javase/8u431-relnotes.html', 'releaseType': 'CPU', 'releaseVersion': '1.8.0_431', 'releaseFullVersion': 'jdk-1.8.0_431-b10', 'securityStatus': 'UPDATE_REQUIRED'}]}\n",
      "customerReleases:[{'artifactContentTypes': ['JDK'], 'daysUnderSecurityBaseline': 0, 'isScriptDownloadAvailable': True, 'jdkDetails': {'docUrl': 'https://docs.oracle.com/en/java/javase/21', 'endOfSupportLifeDate': '2031-09-19T23:59:59.000Z', 'jdkVersion': '21', 'isSupportedVersion': True, 'latestReleaseVersion': '21.0.6', 'isLts': True}, 'licenseDetails': {'displayName': 'Oracle No-Fee Terms and Conditions', 'licenseType': 'NFTC', 'licenseUrl': 'https://java.com/freeuselicense'}, 'releaseDate': '2025-01-21T00:00:00.000Z', 'releaseNotesUrl': 'https://www.oracle.com/java/technologies/javase/21-0-6-relnotes.html', 'releaseType': 'CPU', 'releaseVersion': '21.0.6', 'releaseFullVersion': 'jdk-21.0.6-188+8', 'securityStatus': 'UP_TO_DATE'}, {'artifactContentTypes': ['JDK'], 'daysUnderSecurityBaseline': 10, 'isScriptDownloadAvailable': True, 'jdkDetails': {'docUrl': 'https://docs.oracle.com/en/java/javase/21', 'endOfSupportLifeDate': '2031-09-19T23:59:59.000Z', 'jdkVersion': '21', 'isSupportedVersion': True, 'latestReleaseVersion': '21.0.6', 'isLts': True}, 'licenseDetails': {'displayName': 'Oracle No-Fee Terms and Conditions', 'licenseType': 'NFTC', 'licenseUrl': 'https://java.com/freeuselicense'}, 'releaseDate': '2024-10-15T00:00:00.000Z', 'releaseNotesUrl': 'https://www.oracle.com/java/technologies/javase/21-0-5-relnotes.html', 'releaseType': 'CPU', 'releaseVersion': '21.0.5', 'releaseFullVersion': 'jdk-21.0.5-239+9', 'securityStatus': 'UPDATE_REQUIRED'}]\n",
      "Item:{'artifactContentTypes': ['JDK'], 'daysUnderSecurityBaseline': 0, 'isScriptDownloadAvailable': True, 'jdkDetails': {'docUrl': 'https://docs.oracle.com/en/java/javase/21', 'endOfSupportLifeDate': '2031-09-19T23:59:59.000Z', 'jdkVersion': '21', 'isSupportedVersion': True, 'latestReleaseVersion': '21.0.6', 'isLts': True}, 'licenseDetails': {'displayName': 'Oracle No-Fee Terms and Conditions', 'licenseType': 'NFTC', 'licenseUrl': 'https://java.com/freeuselicense'}, 'releaseDate': '2025-01-21T00:00:00.000Z', 'releaseNotesUrl': 'https://www.oracle.com/java/technologies/javase/21-0-6-relnotes.html', 'releaseType': 'CPU', 'releaseVersion': '21.0.6', 'releaseFullVersion': 'jdk-21.0.6-188+8', 'securityStatus': 'UP_TO_DATE'} \n"
     ]
    },
    {
     "data": {
      "text/plain": [
       "'2031-09-19T23:59:59.000Z'"
      ]
     },
     "execution_count": 67,
     "metadata": {},
     "output_type": "execute_result"
    }
   ],
   "source": [
    "getOracleJavaEolSupportDate(\"21\")"
   ]
  },
  {
   "cell_type": "code",
   "execution_count": 78,
   "metadata": {},
   "outputs": [
    {
     "name": "stdout",
     "output_type": "stream",
     "text": [
      "data:{'items': [{'artifactContentTypes': ['JDK'], 'daysUnderSecurityBaseline': 0, 'isScriptDownloadAvailable': True, 'jdkDetails': {'docUrl': 'https://docs.oracle.com/javase/23', 'endOfSupportLifeDate': '2025-03-17T23:59:59.000Z', 'jdkVersion': '23', 'isSupportedVersion': True, 'latestReleaseVersion': '23.0.2', 'isLts': False}, 'licenseDetails': {'displayName': 'Oracle No-Fee Terms and Conditions', 'licenseType': 'NFTC', 'licenseUrl': 'https://java.com/freeuselicense'}, 'releaseDate': '2025-01-21T00:00:00.000Z', 'releaseNotesUrl': 'https://www.oracle.com/java/technologies/javase/23-0-2-relnotes.html', 'releaseType': 'CPU', 'releaseVersion': '23.0.2', 'releaseFullVersion': 'jdk-23.0.2-58+7', 'securityStatus': 'UP_TO_DATE'}, {'artifactContentTypes': ['JDK'], 'daysUnderSecurityBaseline': 0, 'isScriptDownloadAvailable': True, 'jdkDetails': {'docUrl': 'https://docs.oracle.com/en/java/javase/21', 'endOfSupportLifeDate': '2031-09-19T23:59:59.000Z', 'jdkVersion': '21', 'isSupportedVersion': True, 'latestReleaseVersion': '21.0.6', 'isLts': True}, 'licenseDetails': {'displayName': 'Oracle No-Fee Terms and Conditions', 'licenseType': 'NFTC', 'licenseUrl': 'https://java.com/freeuselicense'}, 'releaseDate': '2025-01-21T00:00:00.000Z', 'releaseNotesUrl': 'https://www.oracle.com/java/technologies/javase/21-0-6-relnotes.html', 'releaseType': 'CPU', 'releaseVersion': '21.0.6', 'releaseFullVersion': 'jdk-21.0.6-188+8', 'securityStatus': 'UP_TO_DATE'}, {'artifactContentTypes': ['JDK'], 'daysUnderSecurityBaseline': 0, 'isScriptDownloadAvailable': True, 'jdkDetails': {'docUrl': 'https://docs.oracle.com/en/java/javase/17', 'endOfSupportLifeDate': '2029-09-18T23:59:59.000Z', 'jdkVersion': '17', 'isSupportedVersion': True, 'latestReleaseVersion': '17.0.14', 'isLts': True}, 'licenseDetails': {'displayName': 'Oracle Technology Network', 'licenseType': 'OTN', 'licenseUrl': 'https://java.com/otnlicense'}, 'releaseDate': '2025-01-21T00:00:00.000Z', 'releaseNotesUrl': 'https://www.oracle.com/java/technologies/javase/17-0-14-relnotes.html', 'releaseType': 'CPU', 'releaseVersion': '17.0.14', 'releaseFullVersion': 'jdk-17.0.14-191+8', 'securityStatus': 'UP_TO_DATE'}, {'artifactContentTypes': ['JDK'], 'daysUnderSecurityBaseline': 0, 'isScriptDownloadAvailable': True, 'jdkDetails': {'docUrl': 'https://docs.oracle.com/en/java/javase/11', 'endOfSupportLifeDate': '2032-01-30T23:59:59.000Z', 'jdkVersion': '11', 'isSupportedVersion': True, 'latestReleaseVersion': '11.0.26', 'isLts': True}, 'licenseDetails': {'displayName': 'Oracle Technology Network', 'licenseType': 'OTN', 'licenseUrl': 'https://java.com/otnlicense'}, 'releaseDate': '2025-01-21T00:00:00.000Z', 'releaseNotesUrl': 'https://www.oracle.com/java/technologies/javase/11-0-26-relnotes.html', 'releaseType': 'CPU', 'releaseVersion': '11.0.26', 'releaseFullVersion': 'jdk-11.0.26-187+7', 'securityStatus': 'UP_TO_DATE'}, {'artifactContentTypes': ['JDK', 'JRE', 'SERVER_JRE'], 'daysUnderSecurityBaseline': 0, 'isScriptDownloadAvailable': True, 'jdkDetails': {'docUrl': 'https://docs.oracle.com/javase/8', 'endOfSupportLifeDate': '2030-12-31T23:59:59.000Z', 'jdkVersion': '8', 'isSupportedVersion': True, 'latestReleaseVersion': '1.8.0_441', 'isLts': True}, 'licenseDetails': {'displayName': 'Oracle Technology Network', 'licenseType': 'OTN', 'licenseUrl': 'https://java.com/otnlicense'}, 'releaseDate': '2025-01-21T00:00:00.000Z', 'releaseNotesUrl': 'https://www.oracle.com/java/technologies/javase/8u441-relnotes.html', 'releaseType': 'CPU', 'releaseVersion': '1.8.0_441', 'releaseFullVersion': 'jdk-1.8.0_441-b07', 'securityStatus': 'UP_TO_DATE'}, {'artifactContentTypes': ['JDK'], 'daysUnderSecurityBaseline': 10, 'isScriptDownloadAvailable': True, 'jdkDetails': {'docUrl': 'https://docs.oracle.com/javase/23', 'endOfSupportLifeDate': '2025-03-17T23:59:59.000Z', 'jdkVersion': '23', 'isSupportedVersion': True, 'latestReleaseVersion': '23.0.2', 'isLts': False}, 'licenseDetails': {'displayName': 'Oracle No-Fee Terms and Conditions', 'licenseType': 'NFTC', 'licenseUrl': 'https://java.com/freeuselicense'}, 'releaseDate': '2024-10-15T00:00:00.000Z', 'releaseNotesUrl': 'https://www.oracle.com/java/technologies/javase/23-0-1-relnotes.html', 'releaseType': 'CPU', 'releaseVersion': '23.0.1', 'releaseFullVersion': 'jdk-23.0.1-39+11', 'securityStatus': 'UPDATE_REQUIRED'}, {'artifactContentTypes': ['JDK'], 'daysUnderSecurityBaseline': 10, 'isScriptDownloadAvailable': True, 'jdkDetails': {'docUrl': 'https://docs.oracle.com/en/java/javase/21', 'endOfSupportLifeDate': '2031-09-19T23:59:59.000Z', 'jdkVersion': '21', 'isSupportedVersion': True, 'latestReleaseVersion': '21.0.6', 'isLts': True}, 'licenseDetails': {'displayName': 'Oracle No-Fee Terms and Conditions', 'licenseType': 'NFTC', 'licenseUrl': 'https://java.com/freeuselicense'}, 'releaseDate': '2024-10-15T00:00:00.000Z', 'releaseNotesUrl': 'https://www.oracle.com/java/technologies/javase/21-0-5-relnotes.html', 'releaseType': 'CPU', 'releaseVersion': '21.0.5', 'releaseFullVersion': 'jdk-21.0.5-239+9', 'securityStatus': 'UPDATE_REQUIRED'}, {'artifactContentTypes': ['JDK'], 'daysUnderSecurityBaseline': 10, 'isScriptDownloadAvailable': True, 'jdkDetails': {'docUrl': 'https://docs.oracle.com/en/java/javase/17', 'endOfSupportLifeDate': '2029-09-18T23:59:59.000Z', 'jdkVersion': '17', 'isSupportedVersion': True, 'latestReleaseVersion': '17.0.14', 'isLts': True}, 'licenseDetails': {'displayName': 'Oracle Technology Network', 'licenseType': 'OTN', 'licenseUrl': 'https://java.com/otnlicense'}, 'releaseDate': '2024-10-15T00:00:00.000Z', 'releaseNotesUrl': 'https://www.oracle.com/java/technologies/javase/17-0-13-relnotes.html', 'releaseType': 'CPU', 'releaseVersion': '17.0.13', 'releaseFullVersion': 'jdk-17.0.13-268+10', 'securityStatus': 'UPDATE_REQUIRED'}, {'artifactContentTypes': ['JDK'], 'daysUnderSecurityBaseline': 10, 'isScriptDownloadAvailable': True, 'jdkDetails': {'docUrl': 'https://docs.oracle.com/en/java/javase/11', 'endOfSupportLifeDate': '2032-01-30T23:59:59.000Z', 'jdkVersion': '11', 'isSupportedVersion': True, 'latestReleaseVersion': '11.0.26', 'isLts': True}, 'licenseDetails': {'displayName': 'Oracle Technology Network', 'licenseType': 'OTN', 'licenseUrl': 'https://java.com/otnlicense'}, 'releaseDate': '2024-10-15T00:00:00.000Z', 'releaseNotesUrl': 'https://www.oracle.com/java/technologies/javase/11-0-25-relnotes.html', 'releaseType': 'CPU', 'releaseVersion': '11.0.25', 'releaseFullVersion': 'jdk-11.0.25-256+9', 'securityStatus': 'UPDATE_REQUIRED'}, {'artifactContentTypes': ['JDK', 'JRE', 'SERVER_JRE'], 'daysUnderSecurityBaseline': 10, 'isScriptDownloadAvailable': True, 'jdkDetails': {'docUrl': 'https://docs.oracle.com/javase/8', 'endOfSupportLifeDate': '2030-12-31T23:59:59.000Z', 'jdkVersion': '8', 'isSupportedVersion': True, 'latestReleaseVersion': '1.8.0_441', 'isLts': True}, 'licenseDetails': {'displayName': 'Oracle Technology Network', 'licenseType': 'OTN', 'licenseUrl': 'https://java.com/otnlicense'}, 'releaseDate': '2024-10-15T00:00:00.000Z', 'releaseNotesUrl': 'https://www.oracle.com/java/technologies/javase/8u431-relnotes.html', 'releaseType': 'CPU', 'releaseVersion': '1.8.0_431', 'releaseFullVersion': 'jdk-1.8.0_431-b10', 'securityStatus': 'UPDATE_REQUIRED'}]}\n",
      "customerReleases:[{'artifactContentTypes': ['JDK'], 'daysUnderSecurityBaseline': 0, 'isScriptDownloadAvailable': True, 'jdkDetails': {'docUrl': 'https://docs.oracle.com/javase/23', 'endOfSupportLifeDate': '2025-03-17T23:59:59.000Z', 'jdkVersion': '23', 'isSupportedVersion': True, 'latestReleaseVersion': '23.0.2', 'isLts': False}, 'licenseDetails': {'displayName': 'Oracle No-Fee Terms and Conditions', 'licenseType': 'NFTC', 'licenseUrl': 'https://java.com/freeuselicense'}, 'releaseDate': '2025-01-21T00:00:00.000Z', 'releaseNotesUrl': 'https://www.oracle.com/java/technologies/javase/23-0-2-relnotes.html', 'releaseType': 'CPU', 'releaseVersion': '23.0.2', 'releaseFullVersion': 'jdk-23.0.2-58+7', 'securityStatus': 'UP_TO_DATE'}, {'artifactContentTypes': ['JDK'], 'daysUnderSecurityBaseline': 10, 'isScriptDownloadAvailable': True, 'jdkDetails': {'docUrl': 'https://docs.oracle.com/javase/23', 'endOfSupportLifeDate': '2025-03-17T23:59:59.000Z', 'jdkVersion': '23', 'isSupportedVersion': True, 'latestReleaseVersion': '23.0.2', 'isLts': False}, 'licenseDetails': {'displayName': 'Oracle No-Fee Terms and Conditions', 'licenseType': 'NFTC', 'licenseUrl': 'https://java.com/freeuselicense'}, 'releaseDate': '2024-10-15T00:00:00.000Z', 'releaseNotesUrl': 'https://www.oracle.com/java/technologies/javase/23-0-1-relnotes.html', 'releaseType': 'CPU', 'releaseVersion': '23.0.1', 'releaseFullVersion': 'jdk-23.0.1-39+11', 'securityStatus': 'UPDATE_REQUIRED'}]\n",
      "Item:{'artifactContentTypes': ['JDK'], 'daysUnderSecurityBaseline': 0, 'isScriptDownloadAvailable': True, 'jdkDetails': {'docUrl': 'https://docs.oracle.com/javase/23', 'endOfSupportLifeDate': '2025-03-17T23:59:59.000Z', 'jdkVersion': '23', 'isSupportedVersion': True, 'latestReleaseVersion': '23.0.2', 'isLts': False}, 'licenseDetails': {'displayName': 'Oracle No-Fee Terms and Conditions', 'licenseType': 'NFTC', 'licenseUrl': 'https://java.com/freeuselicense'}, 'releaseDate': '2025-01-21T00:00:00.000Z', 'releaseNotesUrl': 'https://www.oracle.com/java/technologies/javase/23-0-2-relnotes.html', 'releaseType': 'CPU', 'releaseVersion': '23.0.2', 'releaseFullVersion': 'jdk-23.0.2-58+7', 'securityStatus': 'UP_TO_DATE'} \n"
     ]
    },
    {
     "data": {
      "text/plain": [
       "'2025-03-17T23:59:59.000Z'"
      ]
     },
     "execution_count": 78,
     "metadata": {},
     "output_type": "execute_result"
    }
   ],
   "source": [
    "getOracleJavaEolSupportDate(\"23.0.2\")"
   ]
  },
  {
   "cell_type": "code",
   "execution_count": 34,
   "metadata": {},
   "outputs": [
    {
     "name": "stdout",
     "output_type": "stream",
     "text": [
      "data:{'items': [{'artifactContentTypes': ['JDK', 'JRE', 'SERVER_JRE'], 'daysUnderSecurityBaseline': 9, 'isScriptDownloadAvailable': True, 'jdkDetails': {'docUrl': 'https://docs.oracle.com/javase/8', 'endOfSupportLifeDate': '2030-12-31T23:59:59.000Z', 'jdkVersion': '8', 'isSupportedVersion': True, 'latestReleaseVersion': '1.8.0_441', 'isLts': True}, 'licenseDetails': {'displayName': 'Oracle Technology Network', 'licenseType': 'OTN', 'licenseUrl': 'https://java.com/otnlicense'}, 'releaseDate': '2024-10-15T00:00:00.000Z', 'releaseNotesUrl': 'https://www.oracle.com/java/technologies/javase/8u431-relnotes.html', 'releaseType': 'CPU', 'releaseVersion': '1.8.0_431', 'releaseFullVersion': 'jdk-1.8.0_431-b10', 'securityStatus': 'UPDATE_REQUIRED'}]}\n",
      "Item:{'artifactContentTypes': ['JDK', 'JRE', 'SERVER_JRE'], 'daysUnderSecurityBaseline': 9, 'isScriptDownloadAvailable': True, 'jdkDetails': {'docUrl': 'https://docs.oracle.com/javase/8', 'endOfSupportLifeDate': '2030-12-31T23:59:59.000Z', 'jdkVersion': '8', 'isSupportedVersion': True, 'latestReleaseVersion': '1.8.0_441', 'isLts': True}, 'licenseDetails': {'displayName': 'Oracle Technology Network', 'licenseType': 'OTN', 'licenseUrl': 'https://java.com/otnlicense'}, 'releaseDate': '2024-10-15T00:00:00.000Z', 'releaseNotesUrl': 'https://www.oracle.com/java/technologies/javase/8u431-relnotes.html', 'releaseType': 'CPU', 'releaseVersion': '1.8.0_431', 'releaseFullVersion': 'jdk-1.8.0_431-b10', 'securityStatus': 'UPDATE_REQUIRED'} \n"
     ]
    },
    {
     "data": {
      "text/plain": [
       "'2030-12-31T23:59:59.000Z'"
      ]
     },
     "execution_count": 34,
     "metadata": {},
     "output_type": "execute_result"
    }
   ],
   "source": [
    "getOracleJavaEolSupportDate(\"1.8.0_431\")"
   ]
  },
  {
   "cell_type": "code",
   "execution_count": 35,
   "metadata": {},
   "outputs": [
    {
     "name": "stdout",
     "output_type": "stream",
     "text": [
      "data:{'items': []}\n"
     ]
    },
    {
     "ename": "ValueError",
     "evalue": "No version 1.8 found ",
     "output_type": "error",
     "traceback": [
      "\u001b[0;31m---------------------------------------------------------------------------\u001b[0m",
      "\u001b[0;31mValueError\u001b[0m                                Traceback (most recent call last)",
      "Cell \u001b[0;32mIn[35], line 1\u001b[0m\n\u001b[0;32m----> 1\u001b[0m \u001b[43mgetEolSupportDate\u001b[49m\u001b[43m(\u001b[49m\u001b[38;5;124;43m\"\u001b[39;49m\u001b[38;5;124;43m1.8\u001b[39;49m\u001b[38;5;124;43m\"\u001b[39;49m\u001b[43m)\u001b[49m\n",
      "File \u001b[0;32m~/.pyenv/versions/3.12.6/lib/python3.12/site-packages/langchain_core/_api/deprecation.py:182\u001b[0m, in \u001b[0;36mdeprecated.<locals>.deprecate.<locals>.warning_emitting_wrapper\u001b[0;34m(*args, **kwargs)\u001b[0m\n\u001b[1;32m    180\u001b[0m     warned \u001b[38;5;241m=\u001b[39m \u001b[38;5;28;01mTrue\u001b[39;00m\n\u001b[1;32m    181\u001b[0m     emit_warning()\n\u001b[0;32m--> 182\u001b[0m \u001b[38;5;28;01mreturn\u001b[39;00m \u001b[43mwrapped\u001b[49m\u001b[43m(\u001b[49m\u001b[38;5;241;43m*\u001b[39;49m\u001b[43margs\u001b[49m\u001b[43m,\u001b[49m\u001b[43m \u001b[49m\u001b[38;5;241;43m*\u001b[39;49m\u001b[38;5;241;43m*\u001b[39;49m\u001b[43mkwargs\u001b[49m\u001b[43m)\u001b[49m\n",
      "File \u001b[0;32m~/.pyenv/versions/3.12.6/lib/python3.12/site-packages/langchain_core/tools/base.py:851\u001b[0m, in \u001b[0;36mBaseTool.__call__\u001b[0;34m(self, tool_input, callbacks)\u001b[0m\n\u001b[1;32m    848\u001b[0m \u001b[38;5;129m@deprecated\u001b[39m(\u001b[38;5;124m\"\u001b[39m\u001b[38;5;124m0.1.47\u001b[39m\u001b[38;5;124m\"\u001b[39m, alternative\u001b[38;5;241m=\u001b[39m\u001b[38;5;124m\"\u001b[39m\u001b[38;5;124minvoke\u001b[39m\u001b[38;5;124m\"\u001b[39m, removal\u001b[38;5;241m=\u001b[39m\u001b[38;5;124m\"\u001b[39m\u001b[38;5;124m1.0\u001b[39m\u001b[38;5;124m\"\u001b[39m)\n\u001b[1;32m    849\u001b[0m \u001b[38;5;28;01mdef\u001b[39;00m \u001b[38;5;21m__call__\u001b[39m(\u001b[38;5;28mself\u001b[39m, tool_input: \u001b[38;5;28mstr\u001b[39m, callbacks: Callbacks \u001b[38;5;241m=\u001b[39m \u001b[38;5;28;01mNone\u001b[39;00m) \u001b[38;5;241m-\u001b[39m\u001b[38;5;241m>\u001b[39m \u001b[38;5;28mstr\u001b[39m:\n\u001b[1;32m    850\u001b[0m \u001b[38;5;250m    \u001b[39m\u001b[38;5;124;03m\"\"\"Make tool callable.\"\"\"\u001b[39;00m\n\u001b[0;32m--> 851\u001b[0m     \u001b[38;5;28;01mreturn\u001b[39;00m \u001b[38;5;28;43mself\u001b[39;49m\u001b[38;5;241;43m.\u001b[39;49m\u001b[43mrun\u001b[49m\u001b[43m(\u001b[49m\u001b[43mtool_input\u001b[49m\u001b[43m,\u001b[49m\u001b[43m \u001b[49m\u001b[43mcallbacks\u001b[49m\u001b[38;5;241;43m=\u001b[39;49m\u001b[43mcallbacks\u001b[49m\u001b[43m)\u001b[49m\n",
      "File \u001b[0;32m~/.pyenv/versions/3.12.6/lib/python3.12/site-packages/langchain_core/tools/base.py:725\u001b[0m, in \u001b[0;36mBaseTool.run\u001b[0;34m(self, tool_input, verbose, start_color, color, callbacks, tags, metadata, run_name, run_id, config, tool_call_id, **kwargs)\u001b[0m\n\u001b[1;32m    723\u001b[0m \u001b[38;5;28;01mif\u001b[39;00m error_to_raise:\n\u001b[1;32m    724\u001b[0m     run_manager\u001b[38;5;241m.\u001b[39mon_tool_error(error_to_raise)\n\u001b[0;32m--> 725\u001b[0m     \u001b[38;5;28;01mraise\u001b[39;00m error_to_raise\n\u001b[1;32m    726\u001b[0m output \u001b[38;5;241m=\u001b[39m _format_output(content, artifact, tool_call_id, \u001b[38;5;28mself\u001b[39m\u001b[38;5;241m.\u001b[39mname, status)\n\u001b[1;32m    727\u001b[0m run_manager\u001b[38;5;241m.\u001b[39mon_tool_end(output, color\u001b[38;5;241m=\u001b[39mcolor, name\u001b[38;5;241m=\u001b[39m\u001b[38;5;28mself\u001b[39m\u001b[38;5;241m.\u001b[39mname, \u001b[38;5;241m*\u001b[39m\u001b[38;5;241m*\u001b[39mkwargs)\n",
      "File \u001b[0;32m~/.pyenv/versions/3.12.6/lib/python3.12/site-packages/langchain_core/tools/base.py:693\u001b[0m, in \u001b[0;36mBaseTool.run\u001b[0;34m(self, tool_input, verbose, start_color, color, callbacks, tags, metadata, run_name, run_id, config, tool_call_id, **kwargs)\u001b[0m\n\u001b[1;32m    691\u001b[0m \u001b[38;5;28;01mif\u001b[39;00m config_param \u001b[38;5;241m:=\u001b[39m _get_runnable_config_param(\u001b[38;5;28mself\u001b[39m\u001b[38;5;241m.\u001b[39m_run):\n\u001b[1;32m    692\u001b[0m     tool_kwargs \u001b[38;5;241m=\u001b[39m tool_kwargs \u001b[38;5;241m|\u001b[39m {config_param: config}\n\u001b[0;32m--> 693\u001b[0m response \u001b[38;5;241m=\u001b[39m \u001b[43mcontext\u001b[49m\u001b[38;5;241;43m.\u001b[39;49m\u001b[43mrun\u001b[49m\u001b[43m(\u001b[49m\u001b[38;5;28;43mself\u001b[39;49m\u001b[38;5;241;43m.\u001b[39;49m\u001b[43m_run\u001b[49m\u001b[43m,\u001b[49m\u001b[43m \u001b[49m\u001b[38;5;241;43m*\u001b[39;49m\u001b[43mtool_args\u001b[49m\u001b[43m,\u001b[49m\u001b[43m \u001b[49m\u001b[38;5;241;43m*\u001b[39;49m\u001b[38;5;241;43m*\u001b[39;49m\u001b[43mtool_kwargs\u001b[49m\u001b[43m)\u001b[49m\n\u001b[1;32m    694\u001b[0m \u001b[38;5;28;01mif\u001b[39;00m \u001b[38;5;28mself\u001b[39m\u001b[38;5;241m.\u001b[39mresponse_format \u001b[38;5;241m==\u001b[39m \u001b[38;5;124m\"\u001b[39m\u001b[38;5;124mcontent_and_artifact\u001b[39m\u001b[38;5;124m\"\u001b[39m:\n\u001b[1;32m    695\u001b[0m     \u001b[38;5;28;01mif\u001b[39;00m \u001b[38;5;129;01mnot\u001b[39;00m \u001b[38;5;28misinstance\u001b[39m(response, \u001b[38;5;28mtuple\u001b[39m) \u001b[38;5;129;01mor\u001b[39;00m \u001b[38;5;28mlen\u001b[39m(response) \u001b[38;5;241m!=\u001b[39m \u001b[38;5;241m2\u001b[39m:\n",
      "File \u001b[0;32m~/.pyenv/versions/3.12.6/lib/python3.12/site-packages/langchain_core/tools/structured.py:80\u001b[0m, in \u001b[0;36mStructuredTool._run\u001b[0;34m(self, config, run_manager, *args, **kwargs)\u001b[0m\n\u001b[1;32m     78\u001b[0m     \u001b[38;5;28;01mif\u001b[39;00m config_param \u001b[38;5;241m:=\u001b[39m _get_runnable_config_param(\u001b[38;5;28mself\u001b[39m\u001b[38;5;241m.\u001b[39mfunc):\n\u001b[1;32m     79\u001b[0m         kwargs[config_param] \u001b[38;5;241m=\u001b[39m config\n\u001b[0;32m---> 80\u001b[0m     \u001b[38;5;28;01mreturn\u001b[39;00m \u001b[38;5;28;43mself\u001b[39;49m\u001b[38;5;241;43m.\u001b[39;49m\u001b[43mfunc\u001b[49m\u001b[43m(\u001b[49m\u001b[38;5;241;43m*\u001b[39;49m\u001b[43margs\u001b[49m\u001b[43m,\u001b[49m\u001b[43m \u001b[49m\u001b[38;5;241;43m*\u001b[39;49m\u001b[38;5;241;43m*\u001b[39;49m\u001b[43mkwargs\u001b[49m\u001b[43m)\u001b[49m\n\u001b[1;32m     81\u001b[0m msg \u001b[38;5;241m=\u001b[39m \u001b[38;5;124m\"\u001b[39m\u001b[38;5;124mStructuredTool does not support sync invocation.\u001b[39m\u001b[38;5;124m\"\u001b[39m\n\u001b[1;32m     82\u001b[0m \u001b[38;5;28;01mraise\u001b[39;00m \u001b[38;5;167;01mNotImplementedError\u001b[39;00m(msg)\n",
      "Cell \u001b[0;32mIn[9], line 14\u001b[0m, in \u001b[0;36mgetEolSupportDate\u001b[0;34m(releaseVersion)\u001b[0m\n\u001b[1;32m     12\u001b[0m items\u001b[38;5;241m=\u001b[39m data[\u001b[38;5;124m\"\u001b[39m\u001b[38;5;124mitems\u001b[39m\u001b[38;5;124m\"\u001b[39m]\n\u001b[1;32m     13\u001b[0m \u001b[38;5;28;01mif\u001b[39;00m \u001b[38;5;28mlen\u001b[39m(items)\u001b[38;5;241m<\u001b[39m\u001b[38;5;241m1\u001b[39m:\n\u001b[0;32m---> 14\u001b[0m     \u001b[38;5;28;01mraise\u001b[39;00m \u001b[38;5;167;01mValueError\u001b[39;00m(\u001b[38;5;124mf\u001b[39m\u001b[38;5;124m\"\u001b[39m\u001b[38;5;124mNo version \u001b[39m\u001b[38;5;132;01m{\u001b[39;00mreleaseVersion\u001b[38;5;132;01m}\u001b[39;00m\u001b[38;5;124m found \u001b[39m\u001b[38;5;124m\"\u001b[39m)\n\u001b[1;32m     15\u001b[0m     \u001b[38;5;28;01mreturn\u001b[39;00m\n\u001b[1;32m     17\u001b[0m item\u001b[38;5;241m=\u001b[39m items[\u001b[38;5;241m0\u001b[39m]\n",
      "\u001b[0;31mValueError\u001b[0m: No version 1.8 found "
     ]
    }
   ],
   "source": [
    "getOracleJavaEolSupportDate(\"1.8\")"
   ]
  },
  {
   "cell_type": "code",
   "execution_count": null,
   "metadata": {},
   "outputs": [
    {
     "name": "stdout",
     "output_type": "stream",
     "text": [
      "data:{'items': [{'artifactContentTypes': ['JDK', 'JRE', 'SERVER_JRE'], 'daysUnderSecurityBaseline': 0, 'isScriptDownloadAvailable': True, 'jdkDetails': {'docUrl': 'https://docs.oracle.com/javase/8', 'endOfSupportLifeDate': '2030-12-31T23:59:59.000Z', 'jdkVersion': '8', 'isSupportedVersion': True, 'latestReleaseVersion': '1.8.0_441', 'isLts': True}, 'licenseDetails': {'displayName': 'Oracle Technology Network', 'licenseType': 'OTN', 'licenseUrl': 'https://java.com/otnlicense'}, 'releaseDate': '2025-01-21T00:00:00.000Z', 'releaseNotesUrl': 'https://www.oracle.com/java/technologies/javase/8u441-relnotes.html', 'releaseType': 'CPU', 'releaseVersion': '1.8.0_441', 'releaseFullVersion': 'jdk-1.8.0_441-b07', 'securityStatus': 'UP_TO_DATE'}]}\n",
      "Item:{'artifactContentTypes': ['JDK', 'JRE', 'SERVER_JRE'], 'daysUnderSecurityBaseline': 0, 'isScriptDownloadAvailable': True, 'jdkDetails': {'docUrl': 'https://docs.oracle.com/javase/8', 'endOfSupportLifeDate': '2030-12-31T23:59:59.000Z', 'jdkVersion': '8', 'isSupportedVersion': True, 'latestReleaseVersion': '1.8.0_441', 'isLts': True}, 'licenseDetails': {'displayName': 'Oracle Technology Network', 'licenseType': 'OTN', 'licenseUrl': 'https://java.com/otnlicense'}, 'releaseDate': '2025-01-21T00:00:00.000Z', 'releaseNotesUrl': 'https://www.oracle.com/java/technologies/javase/8u441-relnotes.html', 'releaseType': 'CPU', 'releaseVersion': '1.8.0_441', 'releaseFullVersion': 'jdk-1.8.0_441-b07', 'securityStatus': 'UP_TO_DATE'} \n"
     ]
    },
    {
     "data": {
      "text/plain": [
       "'2030-12-31T23:59:59.000Z'"
      ]
     },
     "execution_count": 11,
     "metadata": {},
     "output_type": "execute_result"
    }
   ],
   "source": [
    "getOracleJavaEolSupportDate(\"1.8.0_441\")"
   ]
  },
  {
   "cell_type": "markdown",
   "metadata": {},
   "source": [
    "## Plugin Tools to our LLMs - (in progress)"
   ]
  },
  {
   "cell_type": "code",
   "execution_count": 12,
   "metadata": {},
   "outputs": [],
   "source": [
    "tooling= [getEolSupportDate]\n",
    "openaiLLmWithTools = openaiLLm.bind_tools([getOracleJavaEolSupportDate])\n",
    "ollamallmWithTools = ollamallm.bind_tools([getOracleJavaEolSupportDate])\n",
    "\n"
   ]
  },
  {
   "cell_type": "code",
   "execution_count": 13,
   "metadata": {},
   "outputs": [
    {
     "name": "stdout",
     "output_type": "stream",
     "text": [
      "data:{'items': [{'artifactContentTypes': ['JDK'], 'daysUnderSecurityBaseline': 0, 'isScriptDownloadAvailable': True, 'jdkDetails': {'docUrl': 'https://docs.oracle.com/javase/23', 'endOfSupportLifeDate': '2025-03-17T23:59:59.000Z', 'jdkVersion': '23', 'isSupportedVersion': True, 'latestReleaseVersion': '23.0.2', 'isLts': False}, 'licenseDetails': {'displayName': 'Oracle No-Fee Terms and Conditions', 'licenseType': 'NFTC', 'licenseUrl': 'https://java.com/freeuselicense'}, 'releaseDate': '2025-01-21T00:00:00.000Z', 'releaseNotesUrl': 'https://www.oracle.com/java/technologies/javase/23-0-2-relnotes.html', 'releaseType': 'CPU', 'releaseVersion': '23.0.2', 'releaseFullVersion': 'jdk-23.0.2-58+7', 'securityStatus': 'UP_TO_DATE'}]}\n",
      "Item:{'artifactContentTypes': ['JDK'], 'daysUnderSecurityBaseline': 0, 'isScriptDownloadAvailable': True, 'jdkDetails': {'docUrl': 'https://docs.oracle.com/javase/23', 'endOfSupportLifeDate': '2025-03-17T23:59:59.000Z', 'jdkVersion': '23', 'isSupportedVersion': True, 'latestReleaseVersion': '23.0.2', 'isLts': False}, 'licenseDetails': {'displayName': 'Oracle No-Fee Terms and Conditions', 'licenseType': 'NFTC', 'licenseUrl': 'https://java.com/freeuselicense'}, 'releaseDate': '2025-01-21T00:00:00.000Z', 'releaseNotesUrl': 'https://www.oracle.com/java/technologies/javase/23-0-2-relnotes.html', 'releaseType': 'CPU', 'releaseVersion': '23.0.2', 'releaseFullVersion': 'jdk-23.0.2-58+7', 'securityStatus': 'UP_TO_DATE'} \n",
      "getEolSupportDate\n",
      "{'releaseVersion': '23.0.2'}\n",
      "2025-03-17T23:59:59.000Z\n",
      "\n",
      "The end of support life date for JDK version 23.0.2 is March 17, 2025.\n"
     ]
    }
   ],
   "source": [
    "ai_msg = openaiLLmWithTools.invoke(messages)\n",
    "messages.append(ai_msg)\n",
    "\n",
    "for tool_call in ai_msg.tool_calls:\n",
    "   tool_msg = getOracleJavaEolSupportDate.invoke(tool_call)\n",
    "  \n",
    "   print(tool_msg.name)\n",
    "   print(tool_call['args'])\n",
    "   print(tool_msg.content)\n",
    "   messages.append(tool_msg)\n",
    "   print()\n",
    "final_response = openaiLLmWithTools.invoke(messages)\n",
    "print(final_response.content)"
   ]
  },
  {
   "cell_type": "code",
   "execution_count": null,
   "metadata": {},
   "outputs": [
    {
     "name": "stdout",
     "output_type": "stream",
     "text": [
      "data:{'items': [{'artifactContentTypes': ['JDK'], 'daysUnderSecurityBaseline': 0, 'isScriptDownloadAvailable': True, 'jdkDetails': {'docUrl': 'https://docs.oracle.com/javase/23', 'endOfSupportLifeDate': '2025-03-17T23:59:59.000Z', 'jdkVersion': '23', 'isSupportedVersion': True, 'latestReleaseVersion': '23.0.2', 'isLts': False}, 'licenseDetails': {'displayName': 'Oracle No-Fee Terms and Conditions', 'licenseType': 'NFTC', 'licenseUrl': 'https://java.com/freeuselicense'}, 'releaseDate': '2025-01-21T00:00:00.000Z', 'releaseNotesUrl': 'https://www.oracle.com/java/technologies/javase/23-0-2-relnotes.html', 'releaseType': 'CPU', 'releaseVersion': '23.0.2', 'releaseFullVersion': 'jdk-23.0.2-58+7', 'securityStatus': 'UP_TO_DATE'}]}\n",
      "Item:{'artifactContentTypes': ['JDK'], 'daysUnderSecurityBaseline': 0, 'isScriptDownloadAvailable': True, 'jdkDetails': {'docUrl': 'https://docs.oracle.com/javase/23', 'endOfSupportLifeDate': '2025-03-17T23:59:59.000Z', 'jdkVersion': '23', 'isSupportedVersion': True, 'latestReleaseVersion': '23.0.2', 'isLts': False}, 'licenseDetails': {'displayName': 'Oracle No-Fee Terms and Conditions', 'licenseType': 'NFTC', 'licenseUrl': 'https://java.com/freeuselicense'}, 'releaseDate': '2025-01-21T00:00:00.000Z', 'releaseNotesUrl': 'https://www.oracle.com/java/technologies/javase/23-0-2-relnotes.html', 'releaseType': 'CPU', 'releaseVersion': '23.0.2', 'releaseFullVersion': 'jdk-23.0.2-58+7', 'securityStatus': 'UP_TO_DATE'} \n",
      "getEolSupportDate\n",
      "{'releaseVersion': '23.0.2'}\n",
      "2025-03-17T23:59:59.000Z\n",
      "\n",
      "The end-of-life (EOL) support date for JDK version 23.0.2 is March 17, 2025. After this date, Oracle will no longer provide security patches, bug fixes, or technical support for the JDK version. It's essential to upgrade to a newer version of the JDK to ensure continued security and support.\n"
     ]
    }
   ],
   "source": [
    "# Augmented Ollama \n",
    "messages = [HumanMessage(\"What is the end support life date for JDK version 23.0.2\")]\n",
    "ai_msg = ollamallmWithTools.invoke(messages)\n",
    "messages.append(ai_msg)\n",
    "\n",
    "for tool_call in ai_msg.tool_calls:\n",
    "   tool_msg = getOracleJavaEolSupportDate.invoke(tool_call)\n",
    "  \n",
    "   print(tool_msg.name)\n",
    "   print(tool_call['args'])\n",
    "   print(tool_msg.content)\n",
    "   messages.append(tool_msg)\n",
    "   print()\n",
    "final_response = ollamallmWithTools.invoke(messages)\n",
    "print(final_response.content)"
   ]
  },
  {
   "cell_type": "markdown",
   "metadata": {},
   "source": [
    "## Using OpenAI Agent Executor Framework\n",
    "OpenAI provides various pattern to run agents with functions and tools \n",
    "https://python.langchain.com/v0.1/docs/modules/agents/agent_types/openai_tools/\n"
   ]
  },
  {
   "cell_type": "code",
   "execution_count": 20,
   "metadata": {},
   "outputs": [],
   "source": [
    "# Imports\n",
    "from langchain import hub\n",
    "from langchain.agents import AgentExecutor, create_openai_tools_agent\n",
    "\n"
   ]
  },
  {
   "cell_type": "code",
   "execution_count": 21,
   "metadata": {},
   "outputs": [
    {
     "name": "stderr",
     "output_type": "stream",
     "text": [
      "/Users/enono/.pyenv/versions/3.12.6/lib/python3.12/site-packages/langsmith/client.py:241: LangSmithMissingAPIKeyWarning: API key must be provided when using hosted LangSmith API\n",
      "  warnings.warn(\n"
     ]
    },
    {
     "data": {
      "text/plain": [
       "ChatPromptTemplate(input_variables=['agent_scratchpad', 'input'], optional_variables=['chat_history'], input_types={'chat_history': list[typing.Annotated[typing.Union[typing.Annotated[langchain_core.messages.ai.AIMessage, Tag(tag='ai')], typing.Annotated[langchain_core.messages.human.HumanMessage, Tag(tag='human')], typing.Annotated[langchain_core.messages.chat.ChatMessage, Tag(tag='chat')], typing.Annotated[langchain_core.messages.system.SystemMessage, Tag(tag='system')], typing.Annotated[langchain_core.messages.function.FunctionMessage, Tag(tag='function')], typing.Annotated[langchain_core.messages.tool.ToolMessage, Tag(tag='tool')], typing.Annotated[langchain_core.messages.ai.AIMessageChunk, Tag(tag='AIMessageChunk')], typing.Annotated[langchain_core.messages.human.HumanMessageChunk, Tag(tag='HumanMessageChunk')], typing.Annotated[langchain_core.messages.chat.ChatMessageChunk, Tag(tag='ChatMessageChunk')], typing.Annotated[langchain_core.messages.system.SystemMessageChunk, Tag(tag='SystemMessageChunk')], typing.Annotated[langchain_core.messages.function.FunctionMessageChunk, Tag(tag='FunctionMessageChunk')], typing.Annotated[langchain_core.messages.tool.ToolMessageChunk, Tag(tag='ToolMessageChunk')]], FieldInfo(annotation=NoneType, required=True, discriminator=Discriminator(discriminator=<function _get_type at 0x120790900>, custom_error_type=None, custom_error_message=None, custom_error_context=None))]], 'agent_scratchpad': list[typing.Annotated[typing.Union[typing.Annotated[langchain_core.messages.ai.AIMessage, Tag(tag='ai')], typing.Annotated[langchain_core.messages.human.HumanMessage, Tag(tag='human')], typing.Annotated[langchain_core.messages.chat.ChatMessage, Tag(tag='chat')], typing.Annotated[langchain_core.messages.system.SystemMessage, Tag(tag='system')], typing.Annotated[langchain_core.messages.function.FunctionMessage, Tag(tag='function')], typing.Annotated[langchain_core.messages.tool.ToolMessage, Tag(tag='tool')], typing.Annotated[langchain_core.messages.ai.AIMessageChunk, Tag(tag='AIMessageChunk')], typing.Annotated[langchain_core.messages.human.HumanMessageChunk, Tag(tag='HumanMessageChunk')], typing.Annotated[langchain_core.messages.chat.ChatMessageChunk, Tag(tag='ChatMessageChunk')], typing.Annotated[langchain_core.messages.system.SystemMessageChunk, Tag(tag='SystemMessageChunk')], typing.Annotated[langchain_core.messages.function.FunctionMessageChunk, Tag(tag='FunctionMessageChunk')], typing.Annotated[langchain_core.messages.tool.ToolMessageChunk, Tag(tag='ToolMessageChunk')]], FieldInfo(annotation=NoneType, required=True, discriminator=Discriminator(discriminator=<function _get_type at 0x120790900>, custom_error_type=None, custom_error_message=None, custom_error_context=None))]]}, partial_variables={'chat_history': []}, metadata={'lc_hub_owner': 'hwchase17', 'lc_hub_repo': 'openai-tools-agent', 'lc_hub_commit_hash': 'c18672812789a3b9697656dd539edf0120285dcae36396d0b548ae42a4ed66f5'}, messages=[SystemMessagePromptTemplate(prompt=PromptTemplate(input_variables=[], input_types={}, partial_variables={}, template='You are a helpful assistant'), additional_kwargs={}), MessagesPlaceholder(variable_name='chat_history', optional=True), HumanMessagePromptTemplate(prompt=PromptTemplate(input_variables=['input'], input_types={}, partial_variables={}, template='{input}'), additional_kwargs={}), MessagesPlaceholder(variable_name='agent_scratchpad')])"
      ]
     },
     "execution_count": 21,
     "metadata": {},
     "output_type": "execute_result"
    }
   ],
   "source": [
    "# Create Agent \n",
    "\n",
    "prompt = hub.pull(\"hwchase17/openai-tools-agent\")\n",
    "\n",
    "prompt"
   ]
  },
  {
   "cell_type": "code",
   "execution_count": 24,
   "metadata": {},
   "outputs": [],
   "source": [
    "tools=[getOracleJavaEolSupportDate]\n",
    "agent = create_openai_tools_agent(openaiLLm,tools , prompt)\n",
    "agent_executor = AgentExecutor(agent=agent, tools=tools, verbose=True)\n",
    "\n"
   ]
  },
  {
   "cell_type": "code",
   "execution_count": null,
   "metadata": {},
   "outputs": [
    {
     "name": "stdout",
     "output_type": "stream",
     "text": [
      "\n",
      "\n",
      "\u001b[1m> Entering new AgentExecutor chain...\u001b[0m\n",
      "\u001b[32;1m\u001b[1;3m\n",
      "Invoking: `getEolSupportDate` with `{'releaseVersion': '23.0.2'}`\n",
      "\n",
      "\n",
      "\u001b[0mdata:{'items': [{'artifactContentTypes': ['JDK'], 'daysUnderSecurityBaseline': 0, 'isScriptDownloadAvailable': True, 'jdkDetails': {'docUrl': 'https://docs.oracle.com/javase/23', 'endOfSupportLifeDate': '2025-03-17T23:59:59.000Z', 'jdkVersion': '23', 'isSupportedVersion': True, 'latestReleaseVersion': '23.0.2', 'isLts': False}, 'licenseDetails': {'displayName': 'Oracle No-Fee Terms and Conditions', 'licenseType': 'NFTC', 'licenseUrl': 'https://java.com/freeuselicense'}, 'releaseDate': '2025-01-21T00:00:00.000Z', 'releaseNotesUrl': 'https://www.oracle.com/java/technologies/javase/23-0-2-relnotes.html', 'releaseType': 'CPU', 'releaseVersion': '23.0.2', 'releaseFullVersion': 'jdk-23.0.2-58+7', 'securityStatus': 'UP_TO_DATE'}]}\n",
      "Item:{'artifactContentTypes': ['JDK'], 'daysUnderSecurityBaseline': 0, 'isScriptDownloadAvailable': True, 'jdkDetails': {'docUrl': 'https://docs.oracle.com/javase/23', 'endOfSupportLifeDate': '2025-03-17T23:59:59.000Z', 'jdkVersion': '23', 'isSupportedVersion': True, 'latestReleaseVersion': '23.0.2', 'isLts': False}, 'licenseDetails': {'displayName': 'Oracle No-Fee Terms and Conditions', 'licenseType': 'NFTC', 'licenseUrl': 'https://java.com/freeuselicense'}, 'releaseDate': '2025-01-21T00:00:00.000Z', 'releaseNotesUrl': 'https://www.oracle.com/java/technologies/javase/23-0-2-relnotes.html', 'releaseType': 'CPU', 'releaseVersion': '23.0.2', 'releaseFullVersion': 'jdk-23.0.2-58+7', 'securityStatus': 'UP_TO_DATE'} \n",
      "\u001b[36;1m\u001b[1;3m2025-03-17T23:59:59.000Z\u001b[0m\u001b[32;1m\u001b[1;3mThe end of support life date for JDK version 23.0.2 is March 17, 2025.\u001b[0m\n",
      "\n",
      "\u001b[1m> Finished chain.\u001b[0m\n"
     ]
    },
    {
     "data": {
      "text/plain": [
       "AgentExecutor(verbose=True, agent=RunnableMultiActionAgent(runnable=RunnableAssign(mapper={\n",
       "  agent_scratchpad: RunnableLambda(lambda x: format_to_openai_tool_messages(x['intermediate_steps']))\n",
       "})\n",
       "| ChatPromptTemplate(input_variables=['agent_scratchpad', 'input'], optional_variables=['chat_history'], input_types={'chat_history': list[typing.Annotated[typing.Union[typing.Annotated[langchain_core.messages.ai.AIMessage, Tag(tag='ai')], typing.Annotated[langchain_core.messages.human.HumanMessage, Tag(tag='human')], typing.Annotated[langchain_core.messages.chat.ChatMessage, Tag(tag='chat')], typing.Annotated[langchain_core.messages.system.SystemMessage, Tag(tag='system')], typing.Annotated[langchain_core.messages.function.FunctionMessage, Tag(tag='function')], typing.Annotated[langchain_core.messages.tool.ToolMessage, Tag(tag='tool')], typing.Annotated[langchain_core.messages.ai.AIMessageChunk, Tag(tag='AIMessageChunk')], typing.Annotated[langchain_core.messages.human.HumanMessageChunk, Tag(tag='HumanMessageChunk')], typing.Annotated[langchain_core.messages.chat.ChatMessageChunk, Tag(tag='ChatMessageChunk')], typing.Annotated[langchain_core.messages.system.SystemMessageChunk, Tag(tag='SystemMessageChunk')], typing.Annotated[langchain_core.messages.function.FunctionMessageChunk, Tag(tag='FunctionMessageChunk')], typing.Annotated[langchain_core.messages.tool.ToolMessageChunk, Tag(tag='ToolMessageChunk')]], FieldInfo(annotation=NoneType, required=True, discriminator=Discriminator(discriminator=<function _get_type at 0x120790900>, custom_error_type=None, custom_error_message=None, custom_error_context=None))]], 'agent_scratchpad': list[typing.Annotated[typing.Union[typing.Annotated[langchain_core.messages.ai.AIMessage, Tag(tag='ai')], typing.Annotated[langchain_core.messages.human.HumanMessage, Tag(tag='human')], typing.Annotated[langchain_core.messages.chat.ChatMessage, Tag(tag='chat')], typing.Annotated[langchain_core.messages.system.SystemMessage, Tag(tag='system')], typing.Annotated[langchain_core.messages.function.FunctionMessage, Tag(tag='function')], typing.Annotated[langchain_core.messages.tool.ToolMessage, Tag(tag='tool')], typing.Annotated[langchain_core.messages.ai.AIMessageChunk, Tag(tag='AIMessageChunk')], typing.Annotated[langchain_core.messages.human.HumanMessageChunk, Tag(tag='HumanMessageChunk')], typing.Annotated[langchain_core.messages.chat.ChatMessageChunk, Tag(tag='ChatMessageChunk')], typing.Annotated[langchain_core.messages.system.SystemMessageChunk, Tag(tag='SystemMessageChunk')], typing.Annotated[langchain_core.messages.function.FunctionMessageChunk, Tag(tag='FunctionMessageChunk')], typing.Annotated[langchain_core.messages.tool.ToolMessageChunk, Tag(tag='ToolMessageChunk')]], FieldInfo(annotation=NoneType, required=True, discriminator=Discriminator(discriminator=<function _get_type at 0x120790900>, custom_error_type=None, custom_error_message=None, custom_error_context=None))]]}, partial_variables={'chat_history': []}, metadata={'lc_hub_owner': 'hwchase17', 'lc_hub_repo': 'openai-tools-agent', 'lc_hub_commit_hash': 'c18672812789a3b9697656dd539edf0120285dcae36396d0b548ae42a4ed66f5'}, messages=[SystemMessagePromptTemplate(prompt=PromptTemplate(input_variables=[], input_types={}, partial_variables={}, template='You are a helpful assistant'), additional_kwargs={}), MessagesPlaceholder(variable_name='chat_history', optional=True), HumanMessagePromptTemplate(prompt=PromptTemplate(input_variables=['input'], input_types={}, partial_variables={}, template='{input}'), additional_kwargs={}), MessagesPlaceholder(variable_name='agent_scratchpad')])\n",
       "| RunnableBinding(bound=ChatOpenAI(client=<openai.resources.chat.completions.Completions object at 0x105eadb50>, async_client=<openai.resources.chat.completions.AsyncCompletions object at 0x121c05280>, root_client=<openai.OpenAI object at 0x106008cb0>, root_async_client=<openai.AsyncOpenAI object at 0x121abbcb0>, model_name='gpt-4o', temperature=0.0, model_kwargs={}, openai_api_key=SecretStr('**********')), kwargs={'tools': [{'type': 'function', 'function': {'name': 'getEolSupportDate', 'description': 'Get the JDK releases info : EOL Support dates , CPU, LTS status, Licence ...', 'parameters': {'properties': {'releaseVersion': {'type': 'string'}}, 'required': ['releaseVersion'], 'type': 'object'}}}]}, config={}, config_factories=[])\n",
       "| OpenAIToolsAgentOutputParser(), input_keys_arg=[], return_keys_arg=[], stream_runnable=True), tools=[StructuredTool(name='getEolSupportDate', description='Get the JDK releases info : EOL Support dates , CPU, LTS status, Licence ...', args_schema=<class 'langchain_core.utils.pydantic.getEolSupportDate'>, func=<function getEolSupportDate at 0x121c194e0>)])"
      ]
     },
     "execution_count": 32,
     "metadata": {},
     "output_type": "execute_result"
    }
   ],
   "source": [
    "agent_executor.invoke({\"input\": \"What is the end support life date for JDK version 23.0.2?\"})\n",
    "agent_executor"
   ]
  },
  {
   "cell_type": "code",
   "execution_count": 69,
   "metadata": {},
   "outputs": [
    {
     "name": "stdout",
     "output_type": "stream",
     "text": [
      "\n",
      "\n",
      "\u001b[1m> Entering new AgentExecutor chain...\u001b[0m\n",
      "\u001b[32;1m\u001b[1;3m\n",
      "Invoking: `getEolSupportDate` with `{'releaseVersion': '1.8.0_431'}`\n",
      "\n",
      "\n",
      "\u001b[0mdata:{'items': [{'artifactContentTypes': ['JDK', 'JRE', 'SERVER_JRE'], 'daysUnderSecurityBaseline': 10, 'isScriptDownloadAvailable': True, 'jdkDetails': {'docUrl': 'https://docs.oracle.com/javase/8', 'endOfSupportLifeDate': '2030-12-31T23:59:59.000Z', 'jdkVersion': '8', 'isSupportedVersion': True, 'latestReleaseVersion': '1.8.0_441', 'isLts': True}, 'licenseDetails': {'displayName': 'Oracle Technology Network', 'licenseType': 'OTN', 'licenseUrl': 'https://java.com/otnlicense'}, 'releaseDate': '2024-10-15T00:00:00.000Z', 'releaseNotesUrl': 'https://www.oracle.com/java/technologies/javase/8u431-relnotes.html', 'releaseType': 'CPU', 'releaseVersion': '1.8.0_431', 'releaseFullVersion': 'jdk-1.8.0_431-b10', 'securityStatus': 'UPDATE_REQUIRED'}]}\n",
      "Item:{'artifactContentTypes': ['JDK', 'JRE', 'SERVER_JRE'], 'daysUnderSecurityBaseline': 10, 'isScriptDownloadAvailable': True, 'jdkDetails': {'docUrl': 'https://docs.oracle.com/javase/8', 'endOfSupportLifeDate': '2030-12-31T23:59:59.000Z', 'jdkVersion': '8', 'isSupportedVersion': True, 'latestReleaseVersion': '1.8.0_441', 'isLts': True}, 'licenseDetails': {'displayName': 'Oracle Technology Network', 'licenseType': 'OTN', 'licenseUrl': 'https://java.com/otnlicense'}, 'releaseDate': '2024-10-15T00:00:00.000Z', 'releaseNotesUrl': 'https://www.oracle.com/java/technologies/javase/8u431-relnotes.html', 'releaseType': 'CPU', 'releaseVersion': '1.8.0_431', 'releaseFullVersion': 'jdk-1.8.0_431-b10', 'securityStatus': 'UPDATE_REQUIRED'} \n",
      "\u001b[36;1m\u001b[1;3m2030-12-31T23:59:59.000Z\u001b[0m\u001b[32;1m\u001b[1;3mThe end of support life date for JDK version 1.8.0_431 is December 31, 2030.\u001b[0m\n",
      "\n",
      "\u001b[1m> Finished chain.\u001b[0m\n"
     ]
    },
    {
     "data": {
      "text/plain": [
       "{'input': 'What is the end support life date for JDK version 1.8.0_431?',\n",
       " 'output': 'The end of support life date for JDK version 1.8.0_431 is December 31, 2030.'}"
      ]
     },
     "execution_count": 69,
     "metadata": {},
     "output_type": "execute_result"
    }
   ],
   "source": [
    "agent_executor.invoke({\"input\": \"What is the end support life date for JDK version 1.8.0_431?\"})\n",
    "\n"
   ]
  },
  {
   "cell_type": "markdown",
   "metadata": {},
   "source": [
    "## Using LangGraph React Agents"
   ]
  },
  {
   "cell_type": "code",
   "execution_count": 71,
   "metadata": {},
   "outputs": [
    {
     "name": "stdout",
     "output_type": "stream",
     "text": [
      "data:{'items': [{'artifactContentTypes': ['JDK'], 'daysUnderSecurityBaseline': 0, 'isScriptDownloadAvailable': True, 'jdkDetails': {'docUrl': 'https://docs.oracle.com/javase/23', 'endOfSupportLifeDate': '2025-03-17T23:59:59.000Z', 'jdkVersion': '23', 'isSupportedVersion': True, 'latestReleaseVersion': '23.0.2', 'isLts': False}, 'licenseDetails': {'displayName': 'Oracle No-Fee Terms and Conditions', 'licenseType': 'NFTC', 'licenseUrl': 'https://java.com/freeuselicense'}, 'releaseDate': '2025-01-21T00:00:00.000Z', 'releaseNotesUrl': 'https://www.oracle.com/java/technologies/javase/23-0-2-relnotes.html', 'releaseType': 'CPU', 'releaseVersion': '23.0.2', 'releaseFullVersion': 'jdk-23.0.2-58+7', 'securityStatus': 'UP_TO_DATE'}, {'artifactContentTypes': ['JDK'], 'daysUnderSecurityBaseline': 0, 'isScriptDownloadAvailable': True, 'jdkDetails': {'docUrl': 'https://docs.oracle.com/en/java/javase/21', 'endOfSupportLifeDate': '2031-09-19T23:59:59.000Z', 'jdkVersion': '21', 'isSupportedVersion': True, 'latestReleaseVersion': '21.0.6', 'isLts': True}, 'licenseDetails': {'displayName': 'Oracle No-Fee Terms and Conditions', 'licenseType': 'NFTC', 'licenseUrl': 'https://java.com/freeuselicense'}, 'releaseDate': '2025-01-21T00:00:00.000Z', 'releaseNotesUrl': 'https://www.oracle.com/java/technologies/javase/21-0-6-relnotes.html', 'releaseType': 'CPU', 'releaseVersion': '21.0.6', 'releaseFullVersion': 'jdk-21.0.6-188+8', 'securityStatus': 'UP_TO_DATE'}, {'artifactContentTypes': ['JDK'], 'daysUnderSecurityBaseline': 0, 'isScriptDownloadAvailable': True, 'jdkDetails': {'docUrl': 'https://docs.oracle.com/en/java/javase/17', 'endOfSupportLifeDate': '2029-09-18T23:59:59.000Z', 'jdkVersion': '17', 'isSupportedVersion': True, 'latestReleaseVersion': '17.0.14', 'isLts': True}, 'licenseDetails': {'displayName': 'Oracle Technology Network', 'licenseType': 'OTN', 'licenseUrl': 'https://java.com/otnlicense'}, 'releaseDate': '2025-01-21T00:00:00.000Z', 'releaseNotesUrl': 'https://www.oracle.com/java/technologies/javase/17-0-14-relnotes.html', 'releaseType': 'CPU', 'releaseVersion': '17.0.14', 'releaseFullVersion': 'jdk-17.0.14-191+8', 'securityStatus': 'UP_TO_DATE'}, {'artifactContentTypes': ['JDK'], 'daysUnderSecurityBaseline': 0, 'isScriptDownloadAvailable': True, 'jdkDetails': {'docUrl': 'https://docs.oracle.com/en/java/javase/11', 'endOfSupportLifeDate': '2032-01-30T23:59:59.000Z', 'jdkVersion': '11', 'isSupportedVersion': True, 'latestReleaseVersion': '11.0.26', 'isLts': True}, 'licenseDetails': {'displayName': 'Oracle Technology Network', 'licenseType': 'OTN', 'licenseUrl': 'https://java.com/otnlicense'}, 'releaseDate': '2025-01-21T00:00:00.000Z', 'releaseNotesUrl': 'https://www.oracle.com/java/technologies/javase/11-0-26-relnotes.html', 'releaseType': 'CPU', 'releaseVersion': '11.0.26', 'releaseFullVersion': 'jdk-11.0.26-187+7', 'securityStatus': 'UP_TO_DATE'}, {'artifactContentTypes': ['JDK', 'JRE', 'SERVER_JRE'], 'daysUnderSecurityBaseline': 0, 'isScriptDownloadAvailable': True, 'jdkDetails': {'docUrl': 'https://docs.oracle.com/javase/8', 'endOfSupportLifeDate': '2030-12-31T23:59:59.000Z', 'jdkVersion': '8', 'isSupportedVersion': True, 'latestReleaseVersion': '1.8.0_441', 'isLts': True}, 'licenseDetails': {'displayName': 'Oracle Technology Network', 'licenseType': 'OTN', 'licenseUrl': 'https://java.com/otnlicense'}, 'releaseDate': '2025-01-21T00:00:00.000Z', 'releaseNotesUrl': 'https://www.oracle.com/java/technologies/javase/8u441-relnotes.html', 'releaseType': 'CPU', 'releaseVersion': '1.8.0_441', 'releaseFullVersion': 'jdk-1.8.0_441-b07', 'securityStatus': 'UP_TO_DATE'}, {'artifactContentTypes': ['JDK'], 'daysUnderSecurityBaseline': 10, 'isScriptDownloadAvailable': True, 'jdkDetails': {'docUrl': 'https://docs.oracle.com/javase/23', 'endOfSupportLifeDate': '2025-03-17T23:59:59.000Z', 'jdkVersion': '23', 'isSupportedVersion': True, 'latestReleaseVersion': '23.0.2', 'isLts': False}, 'licenseDetails': {'displayName': 'Oracle No-Fee Terms and Conditions', 'licenseType': 'NFTC', 'licenseUrl': 'https://java.com/freeuselicense'}, 'releaseDate': '2024-10-15T00:00:00.000Z', 'releaseNotesUrl': 'https://www.oracle.com/java/technologies/javase/23-0-1-relnotes.html', 'releaseType': 'CPU', 'releaseVersion': '23.0.1', 'releaseFullVersion': 'jdk-23.0.1-39+11', 'securityStatus': 'UPDATE_REQUIRED'}, {'artifactContentTypes': ['JDK'], 'daysUnderSecurityBaseline': 10, 'isScriptDownloadAvailable': True, 'jdkDetails': {'docUrl': 'https://docs.oracle.com/en/java/javase/21', 'endOfSupportLifeDate': '2031-09-19T23:59:59.000Z', 'jdkVersion': '21', 'isSupportedVersion': True, 'latestReleaseVersion': '21.0.6', 'isLts': True}, 'licenseDetails': {'displayName': 'Oracle No-Fee Terms and Conditions', 'licenseType': 'NFTC', 'licenseUrl': 'https://java.com/freeuselicense'}, 'releaseDate': '2024-10-15T00:00:00.000Z', 'releaseNotesUrl': 'https://www.oracle.com/java/technologies/javase/21-0-5-relnotes.html', 'releaseType': 'CPU', 'releaseVersion': '21.0.5', 'releaseFullVersion': 'jdk-21.0.5-239+9', 'securityStatus': 'UPDATE_REQUIRED'}, {'artifactContentTypes': ['JDK'], 'daysUnderSecurityBaseline': 10, 'isScriptDownloadAvailable': True, 'jdkDetails': {'docUrl': 'https://docs.oracle.com/en/java/javase/17', 'endOfSupportLifeDate': '2029-09-18T23:59:59.000Z', 'jdkVersion': '17', 'isSupportedVersion': True, 'latestReleaseVersion': '17.0.14', 'isLts': True}, 'licenseDetails': {'displayName': 'Oracle Technology Network', 'licenseType': 'OTN', 'licenseUrl': 'https://java.com/otnlicense'}, 'releaseDate': '2024-10-15T00:00:00.000Z', 'releaseNotesUrl': 'https://www.oracle.com/java/technologies/javase/17-0-13-relnotes.html', 'releaseType': 'CPU', 'releaseVersion': '17.0.13', 'releaseFullVersion': 'jdk-17.0.13-268+10', 'securityStatus': 'UPDATE_REQUIRED'}, {'artifactContentTypes': ['JDK'], 'daysUnderSecurityBaseline': 10, 'isScriptDownloadAvailable': True, 'jdkDetails': {'docUrl': 'https://docs.oracle.com/en/java/javase/11', 'endOfSupportLifeDate': '2032-01-30T23:59:59.000Z', 'jdkVersion': '11', 'isSupportedVersion': True, 'latestReleaseVersion': '11.0.26', 'isLts': True}, 'licenseDetails': {'displayName': 'Oracle Technology Network', 'licenseType': 'OTN', 'licenseUrl': 'https://java.com/otnlicense'}, 'releaseDate': '2024-10-15T00:00:00.000Z', 'releaseNotesUrl': 'https://www.oracle.com/java/technologies/javase/11-0-25-relnotes.html', 'releaseType': 'CPU', 'releaseVersion': '11.0.25', 'releaseFullVersion': 'jdk-11.0.25-256+9', 'securityStatus': 'UPDATE_REQUIRED'}, {'artifactContentTypes': ['JDK', 'JRE', 'SERVER_JRE'], 'daysUnderSecurityBaseline': 10, 'isScriptDownloadAvailable': True, 'jdkDetails': {'docUrl': 'https://docs.oracle.com/javase/8', 'endOfSupportLifeDate': '2030-12-31T23:59:59.000Z', 'jdkVersion': '8', 'isSupportedVersion': True, 'latestReleaseVersion': '1.8.0_441', 'isLts': True}, 'licenseDetails': {'displayName': 'Oracle Technology Network', 'licenseType': 'OTN', 'licenseUrl': 'https://java.com/otnlicense'}, 'releaseDate': '2024-10-15T00:00:00.000Z', 'releaseNotesUrl': 'https://www.oracle.com/java/technologies/javase/8u431-relnotes.html', 'releaseType': 'CPU', 'releaseVersion': '1.8.0_431', 'releaseFullVersion': 'jdk-1.8.0_431-b10', 'securityStatus': 'UPDATE_REQUIRED'}]}\n",
      "customerReleases:[{'artifactContentTypes': ['JDK'], 'daysUnderSecurityBaseline': 0, 'isScriptDownloadAvailable': True, 'jdkDetails': {'docUrl': 'https://docs.oracle.com/javase/23', 'endOfSupportLifeDate': '2025-03-17T23:59:59.000Z', 'jdkVersion': '23', 'isSupportedVersion': True, 'latestReleaseVersion': '23.0.2', 'isLts': False}, 'licenseDetails': {'displayName': 'Oracle No-Fee Terms and Conditions', 'licenseType': 'NFTC', 'licenseUrl': 'https://java.com/freeuselicense'}, 'releaseDate': '2025-01-21T00:00:00.000Z', 'releaseNotesUrl': 'https://www.oracle.com/java/technologies/javase/23-0-2-relnotes.html', 'releaseType': 'CPU', 'releaseVersion': '23.0.2', 'releaseFullVersion': 'jdk-23.0.2-58+7', 'securityStatus': 'UP_TO_DATE'}, {'artifactContentTypes': ['JDK'], 'daysUnderSecurityBaseline': 10, 'isScriptDownloadAvailable': True, 'jdkDetails': {'docUrl': 'https://docs.oracle.com/javase/23', 'endOfSupportLifeDate': '2025-03-17T23:59:59.000Z', 'jdkVersion': '23', 'isSupportedVersion': True, 'latestReleaseVersion': '23.0.2', 'isLts': False}, 'licenseDetails': {'displayName': 'Oracle No-Fee Terms and Conditions', 'licenseType': 'NFTC', 'licenseUrl': 'https://java.com/freeuselicense'}, 'releaseDate': '2024-10-15T00:00:00.000Z', 'releaseNotesUrl': 'https://www.oracle.com/java/technologies/javase/23-0-1-relnotes.html', 'releaseType': 'CPU', 'releaseVersion': '23.0.1', 'releaseFullVersion': 'jdk-23.0.1-39+11', 'securityStatus': 'UPDATE_REQUIRED'}]\n",
      "Item:{'artifactContentTypes': ['JDK'], 'daysUnderSecurityBaseline': 0, 'isScriptDownloadAvailable': True, 'jdkDetails': {'docUrl': 'https://docs.oracle.com/javase/23', 'endOfSupportLifeDate': '2025-03-17T23:59:59.000Z', 'jdkVersion': '23', 'isSupportedVersion': True, 'latestReleaseVersion': '23.0.2', 'isLts': False}, 'licenseDetails': {'displayName': 'Oracle No-Fee Terms and Conditions', 'licenseType': 'NFTC', 'licenseUrl': 'https://java.com/freeuselicense'}, 'releaseDate': '2025-01-21T00:00:00.000Z', 'releaseNotesUrl': 'https://www.oracle.com/java/technologies/javase/23-0-2-relnotes.html', 'releaseType': 'CPU', 'releaseVersion': '23.0.2', 'releaseFullVersion': 'jdk-23.0.2-58+7', 'securityStatus': 'UP_TO_DATE'} \n"
     ]
    },
    {
     "data": {
      "text/plain": [
       "{'prompt': ' What is the ORacle EOL suppport date for java 23',\n",
       " 'response': 'The Oracle EOL (End of Life) support date for Java 23 is March 17, 2025.'}"
      ]
     },
     "execution_count": 71,
     "metadata": {},
     "output_type": "execute_result"
    }
   ],
   "source": [
    "from langgraph.prebuilt import create_react_agent\n",
    "\n",
    "tools=[getOracleJavaEolSupportDate]\n",
    "llm = ChatOpenAI(api_key=openai_api_key,model_name=\"gpt-4o\", temperature=0)\n",
    "agent =create_react_agent(llm,tools=tools )\n",
    "query = \" What is the ORacle EOL suppport date for java 23\"\n",
    "messages = agent.invoke({\"messages\": [(\"human\", query)]})\n",
    "{\n",
    "    \"prompt\": query,\n",
    "    \"response\": messages[\"messages\"][-1].content,\n",
    "}"
   ]
  }
 ],
 "metadata": {
  "kernelspec": {
   "display_name": "Python 3",
   "language": "python",
   "name": "python3"
  },
  "language_info": {
   "codemirror_mode": {
    "name": "ipython",
    "version": 3
   },
   "file_extension": ".py",
   "mimetype": "text/x-python",
   "name": "python",
   "nbconvert_exporter": "python",
   "pygments_lexer": "ipython3",
   "version": "3.12.6"
  }
 },
 "nbformat": 4,
 "nbformat_minor": 2
}
